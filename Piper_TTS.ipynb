{
  "nbformat": 4,
  "nbformat_minor": 0,
  "metadata": {
    "colab": {
      "provenance": []
    },
    "kernelspec": {
      "name": "python3",
      "display_name": "Python 3"
    },
    "language_info": {
      "name": "python"
    },
    "widgets": {
      "application/vnd.jupyter.widget-state+json": {
        "b14b3119d81d4536a094b6c9a395d563": {
          "model_module": "@jupyter-widgets/controls",
          "model_name": "DropdownModel",
          "model_module_version": "1.5.0",
          "state": {
            "_dom_classes": [],
            "_model_module": "@jupyter-widgets/controls",
            "_model_module_version": "1.5.0",
            "_model_name": "DropdownModel",
            "_options_labels": [
              "Arabic (Arabic, Jordan)",
              "Catalan (Catalan, Spain)",
              "Chinese (Chinese, China)",
              "Czech (Czech, Czech Republic)",
              "Danish (Danish, Denmark)",
              "Dutch (Dutch, Belgium)",
              "Dutch (Dutch, Netherlands)",
              "English (English, Great Britain)",
              "English (English, United States)",
              "Finnish (Finnish, Finland)",
              "French (French, France)",
              "Georgian (Georgian, Georgia)",
              "German (German, Germany)",
              "Greek (Greek, Greece)",
              "Hungarian (Hungarian, Hungary)",
              "Icelandic (Icelandic, Iceland)",
              "Italian (Italian, Italy)",
              "Kazakh (Kazakh, Kazakhstan)",
              "Luxembourgish (Luxembourgish, Luxembourg)",
              "Nepali (Nepali, Nepal)",
              "Norwegian (Norwegian, Norway)",
              "Polish (Polish, Poland)",
              "Portuguese (Portuguese, Brazil)",
              "Portuguese (Portuguese, Portugal)",
              "Romanian (Romanian, Romania)",
              "Russian (Russian, Russia)",
              "Serbian (Serbian, Serbia)",
              "Slovak (Slovak, Slovakia)",
              "Spanish (Spanish, Spain)",
              "Spanish (Spanish, Mexico)",
              "Swahili (Swahili, Democratic Republic of the Congo)",
              "Swedish (Swedish, Sweden)",
              "Turkish (Turkish, Turkey)",
              "Ukrainian (Ukrainian, Ukraine)",
              "Vietnamese (Vietnamese, Vietnam)"
            ],
            "_view_count": null,
            "_view_module": "@jupyter-widgets/controls",
            "_view_module_version": "1.5.0",
            "_view_name": "DropdownView",
            "description": "",
            "description_tooltip": null,
            "disabled": false,
            "index": 8,
            "layout": "IPY_MODEL_a85f5856e4064da1b73eca297174d344",
            "style": "IPY_MODEL_8f611a28237746cdb070e3050d1a69fc"
          }
        },
        "a85f5856e4064da1b73eca297174d344": {
          "model_module": "@jupyter-widgets/base",
          "model_name": "LayoutModel",
          "model_module_version": "1.2.0",
          "state": {
            "_model_module": "@jupyter-widgets/base",
            "_model_module_version": "1.2.0",
            "_model_name": "LayoutModel",
            "_view_count": null,
            "_view_module": "@jupyter-widgets/base",
            "_view_module_version": "1.2.0",
            "_view_name": "LayoutView",
            "align_content": null,
            "align_items": null,
            "align_self": null,
            "border": null,
            "bottom": null,
            "display": null,
            "flex": null,
            "flex_flow": null,
            "grid_area": null,
            "grid_auto_columns": null,
            "grid_auto_flow": null,
            "grid_auto_rows": null,
            "grid_column": null,
            "grid_gap": null,
            "grid_row": null,
            "grid_template_areas": null,
            "grid_template_columns": null,
            "grid_template_rows": null,
            "height": null,
            "justify_content": null,
            "justify_items": null,
            "left": null,
            "margin": null,
            "max_height": null,
            "max_width": null,
            "min_height": null,
            "min_width": null,
            "object_fit": null,
            "object_position": null,
            "order": null,
            "overflow": null,
            "overflow_x": null,
            "overflow_y": null,
            "padding": null,
            "right": null,
            "top": null,
            "visibility": null,
            "width": null
          }
        },
        "8f611a28237746cdb070e3050d1a69fc": {
          "model_module": "@jupyter-widgets/controls",
          "model_name": "DescriptionStyleModel",
          "model_module_version": "1.5.0",
          "state": {
            "_model_module": "@jupyter-widgets/controls",
            "_model_module_version": "1.5.0",
            "_model_name": "DescriptionStyleModel",
            "_view_count": null,
            "_view_module": "@jupyter-widgets/base",
            "_view_module_version": "1.2.0",
            "_view_name": "StyleView",
            "description_width": ""
          }
        },
        "c167427a70a44b068dea0c2bf2079ef0": {
          "model_module": "@jupyter-widgets/controls",
          "model_name": "DropdownModel",
          "model_module_version": "1.5.0",
          "state": {
            "_dom_classes": [],
            "_model_module": "@jupyter-widgets/controls",
            "_model_module_version": "1.5.0",
            "_model_name": "DropdownModel",
            "_options_labels": [
              "kusal",
              "amy",
              "joe",
              "ryan",
              "lessac",
              "kathleen",
              "hfc_male",
              "arctic",
              "l2arctic",
              "libritts_r",
              "libritts",
              "danny"
            ],
            "_view_count": null,
            "_view_module": "@jupyter-widgets/controls",
            "_view_module_version": "1.5.0",
            "_view_name": "DropdownView",
            "description": "",
            "description_tooltip": null,
            "disabled": false,
            "index": 0,
            "layout": "IPY_MODEL_3febf601e1df4d7d94391dc5ebc7090a",
            "style": "IPY_MODEL_681c48de47b64087b0afa2fa1094c854"
          }
        },
        "3febf601e1df4d7d94391dc5ebc7090a": {
          "model_module": "@jupyter-widgets/base",
          "model_name": "LayoutModel",
          "model_module_version": "1.2.0",
          "state": {
            "_model_module": "@jupyter-widgets/base",
            "_model_module_version": "1.2.0",
            "_model_name": "LayoutModel",
            "_view_count": null,
            "_view_module": "@jupyter-widgets/base",
            "_view_module_version": "1.2.0",
            "_view_name": "LayoutView",
            "align_content": null,
            "align_items": null,
            "align_self": null,
            "border": null,
            "bottom": null,
            "display": null,
            "flex": null,
            "flex_flow": null,
            "grid_area": null,
            "grid_auto_columns": null,
            "grid_auto_flow": null,
            "grid_auto_rows": null,
            "grid_column": null,
            "grid_gap": null,
            "grid_row": null,
            "grid_template_areas": null,
            "grid_template_columns": null,
            "grid_template_rows": null,
            "height": null,
            "justify_content": null,
            "justify_items": null,
            "left": null,
            "margin": null,
            "max_height": null,
            "max_width": null,
            "min_height": null,
            "min_width": null,
            "object_fit": null,
            "object_position": null,
            "order": null,
            "overflow": null,
            "overflow_x": null,
            "overflow_y": null,
            "padding": null,
            "right": null,
            "top": null,
            "visibility": null,
            "width": null
          }
        },
        "681c48de47b64087b0afa2fa1094c854": {
          "model_module": "@jupyter-widgets/controls",
          "model_name": "DescriptionStyleModel",
          "model_module_version": "1.5.0",
          "state": {
            "_model_module": "@jupyter-widgets/controls",
            "_model_module_version": "1.5.0",
            "_model_name": "DescriptionStyleModel",
            "_view_count": null,
            "_view_module": "@jupyter-widgets/base",
            "_view_module_version": "1.2.0",
            "_view_name": "StyleView",
            "description_width": ""
          }
        }
      }
    }
  },
  "cells": [
    {
      "cell_type": "markdown",
      "source": [
        "[piper github repository](https://github.com/rhasspy/piper/tree/master)\n"
      ],
      "metadata": {
        "id": "UUwIicV1zNCn"
      }
    },
    {
      "cell_type": "code",
      "execution_count": 3,
      "metadata": {
        "colab": {
          "base_uri": "https://localhost:8080/",
          "height": 79,
          "referenced_widgets": [
            "b14b3119d81d4536a094b6c9a395d563",
            "a85f5856e4064da1b73eca297174d344",
            "8f611a28237746cdb070e3050d1a69fc",
            "c167427a70a44b068dea0c2bf2079ef0",
            "3febf601e1df4d7d94391dc5ebc7090a",
            "681c48de47b64087b0afa2fa1094c854"
          ]
        },
        "id": "R9iRx8xvyGT6",
        "outputId": "dc9ceffb-188b-4742-8f54-99dc6e8f4c16"
      },
      "outputs": [
        {
          "output_type": "display_data",
          "data": {
            "text/plain": [
              "Dropdown(index=8, options=('Arabic (Arabic, Jordan)', 'Catalan (Catalan, Spain)', 'Chinese (Chinese, China)', …"
            ],
            "application/vnd.jupyter.widget-view+json": {
              "version_major": 2,
              "version_minor": 0,
              "model_id": "b14b3119d81d4536a094b6c9a395d563"
            }
          },
          "metadata": {}
        },
        {
          "output_type": "display_data",
          "data": {
            "text/plain": [
              "Dropdown(options=('amy', 'arctic', 'danny', 'hfc_male', 'joe', 'kathleen', 'kusal', 'l2arctic', 'lessac', 'lib…"
            ],
            "application/vnd.jupyter.widget-view+json": {
              "version_major": 2,
              "version_minor": 0,
              "model_id": "c167427a70a44b068dea0c2bf2079ef0"
            }
          },
          "metadata": {}
        }
      ],
      "source": [
        "from IPython.display import clear_output\n",
        "%cd /content/\n",
        "!wget https://raw.githubusercontent.com/neuralfalcon/piper-tts/main/best_quality.json\n",
        "!pip install piper-tts\n",
        "\n",
        "import os\n",
        "if os.path.exists(\"/content/audio\"):\n",
        "    print(\"audio folder already exists\")\n",
        "else:\n",
        "    os.mkdir(\"/content/audio\")\n",
        "if os.path.exists(\"/content/model\"):\n",
        "    print(\"model folder already exists\")\n",
        "else:\n",
        "    os.mkdir(\"/content/model\")\n",
        "\n",
        "import uuid\n",
        "import re\n",
        "\n",
        "def format_name(text):\n",
        "    if text.endswith(\".\"):\n",
        "        text = text[:-1]\n",
        "\n",
        "    text = text.lower()\n",
        "    text = text.strip()\n",
        "\n",
        "    # Replace non-alphabetic characters with a single underscore\n",
        "    text = re.sub('[^a-z]+', '_', text)\n",
        "\n",
        "    return text\n",
        "\n",
        "# Example usage:\n",
        "input_text = \"This is / a, Sample! Text.\"\n",
        "formatted_text = format_name(input_text)\n",
        "print(formatted_text)\n",
        "\n",
        "def tts_file_name(text):\n",
        "    text = format_name(text)\n",
        "    truncated_text = text[:25] if len(text) > 25 else text if len(text) > 0 else \"empty\"\n",
        "    random_string = uuid.uuid4().hex[:8].upper()\n",
        "    file_name = f\"/content/audio/{truncated_text}_{random_string}.wav\"\n",
        "    return file_name\n",
        "\n",
        "\n",
        "\n",
        "import subprocess\n",
        "def piper_tts(text,model_name):\n",
        "    if os.getcwd() != \"/content/model\":\n",
        "      os.chdir(\"/content/model\")\n",
        "    output_file=tts_file_name(text)\n",
        "    command = f'echo \"{text}\" | piper --model {model_name} --output_file {output_file}'\n",
        "    result =subprocess.run(command, shell=True)\n",
        "    if result.returncode == 0:\n",
        "        print(\"TTS Generated Successfully !\")\n",
        "        return output_file\n",
        "    else:\n",
        "        print(f\"Command failed with return code {result.returncode}\")\n",
        "        return None\n",
        "\n",
        "\n",
        "\n",
        "\n",
        "import ipywidgets as widgets\n",
        "from IPython.display import display\n",
        "import json\n",
        "# Assuming data is the content of your result.json\n",
        "with open(\"/content/best_quality.json\", 'r', encoding='utf-8') as f:\n",
        "    read_data = json.load(f)\n",
        "# Extracting language names, voice names, and model names\n",
        "languages = list(read_data.keys())\n",
        "voice_info = {lang: list(read_data[lang].keys()) for lang in languages}\n",
        "model_info = {lang: {voice: read_data[lang][voice][\"model_name\"] for voice in voice_info[lang]} for lang in languages}\n",
        "\n",
        "\n",
        "\n",
        "\n",
        "clear_output()\n",
        "#@title Select Language and voice Model { display-mode: \"form\" }\n",
        "\n",
        "import ipywidgets as widgets\n",
        "\n",
        "\n",
        "\n",
        "# Function to update the available voices based on the selected language\n",
        "def update_voices(change):\n",
        "    selected_language = change.new\n",
        "    if selected_language in voice_info:\n",
        "        voice_names.options = voice_info[selected_language]\n",
        "        voice_names.value = voice_info[selected_language][0]\n",
        "\n",
        "# Create and display the language dropdown\n",
        "sorted_language_list = sorted(languages, key=lambda x: x.split(' ')[0])\n",
        "language_name = widgets.Dropdown(options=sorted_language_list, value='English (English, United States)')\n",
        "display(language_name)\n",
        "\n",
        "# Create and display the initial voice dropdown\n",
        "initial_language = language_name.value\n",
        "initial_voices = voice_info.get(initial_language, [])\n",
        "# can i sort initial_voices alphabaticaly base on first chartecter\n",
        "sorted_initial_voices = sorted(initial_voices)\n",
        "voice_names = widgets.Dropdown(options=sorted_initial_voices, value=sorted_initial_voices[0])\n",
        "display(voice_names)\n",
        "\n",
        "# Attach the callback function to the language dropdown's observe method\n",
        "language_name.observe(update_voices, names='value')\n"
      ]
    },
    {
      "cell_type": "code",
      "source": [
        "Enter_Text = 'piper tts is the best'  # @param {type: \"string\"}\n",
        "model_name=model_info[language_name.value][voice_names.value]\n",
        "save_tts_path=piper_tts(Enter_Text,model_name)\n",
        "print(f\"Language : {language_name.value}\")\n",
        "print(f\"Voice Name : {voice_names.value}\")\n",
        "print(f\"Voice Model Name : {model_name}\")\n",
        "print(f\"TTS Save at : {save_tts_path}\")\n",
        "from IPython.display import Audio\n",
        "Audio(save_tts_path,autoplay=True)"
      ],
      "metadata": {
        "colab": {
          "base_uri": "https://localhost:8080/",
          "height": 162
        },
        "cellView": "form",
        "id": "c2W-geWlyZyG",
        "outputId": "5b83e366-8ab7-4b6a-bb16-4505e4f3711b"
      },
      "execution_count": 9,
      "outputs": [
        {
          "output_type": "stream",
          "name": "stdout",
          "text": [
            "TTS Generated Successfully !\n",
            "Language : English (English, United States)\n",
            "Voice Name : kusal\n",
            "Voice Model Name : en_US-kusal-medium\n",
            "TTS Save at : /content/audio/what_is__ECEAC2B3.wav\n"
          ]
        },
        {
          "output_type": "execute_result",
          "data": {
            "text/plain": [
              "<IPython.lib.display.Audio object>"
            ],
            "text/html": [
              "\n",
              "                <audio  controls=\"controls\" autoplay=\"autoplay\">\n",
              "                    <source src=\"data:audio/x-wav;base64,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\" type=\"audio/x-wav\" />\n",
              "                    Your browser does not support the audio element.\n",
              "                </audio>\n",
              "              "
            ]
          },
          "metadata": {},
          "execution_count": 9
        }
      ]
    },
    {
      "cell_type": "code",
      "source": [
        "#@title Download tts audio { display-mode: \"form\" }\n",
        "\n",
        "from google.colab import files\n",
        "\n",
        "\n",
        "\n",
        "files.download(save_tts_path)"
      ],
      "metadata": {
        "colab": {
          "base_uri": "https://localhost:8080/",
          "height": 17
        },
        "id": "bPYZ2cLGyzXK",
        "outputId": "103a8a7c-c8a5-4e44-ee94-4fe1f8fc18b8"
      },
      "execution_count": 8,
      "outputs": [
        {
          "output_type": "display_data",
          "data": {
            "text/plain": [
              "<IPython.core.display.Javascript object>"
            ],
            "application/javascript": [
              "\n",
              "    async function download(id, filename, size) {\n",
              "      if (!google.colab.kernel.accessAllowed) {\n",
              "        return;\n",
              "      }\n",
              "      const div = document.createElement('div');\n",
              "      const label = document.createElement('label');\n",
              "      label.textContent = `Downloading \"${filename}\": `;\n",
              "      div.appendChild(label);\n",
              "      const progress = document.createElement('progress');\n",
              "      progress.max = size;\n",
              "      div.appendChild(progress);\n",
              "      document.body.appendChild(div);\n",
              "\n",
              "      const buffers = [];\n",
              "      let downloaded = 0;\n",
              "\n",
              "      const channel = await google.colab.kernel.comms.open(id);\n",
              "      // Send a message to notify the kernel that we're ready.\n",
              "      channel.send({})\n",
              "\n",
              "      for await (const message of channel.messages) {\n",
              "        // Send a message to notify the kernel that we're ready.\n",
              "        channel.send({})\n",
              "        if (message.buffers) {\n",
              "          for (const buffer of message.buffers) {\n",
              "            buffers.push(buffer);\n",
              "            downloaded += buffer.byteLength;\n",
              "            progress.value = downloaded;\n",
              "          }\n",
              "        }\n",
              "      }\n",
              "      const blob = new Blob(buffers, {type: 'application/binary'});\n",
              "      const a = document.createElement('a');\n",
              "      a.href = window.URL.createObjectURL(blob);\n",
              "      a.download = filename;\n",
              "      div.appendChild(a);\n",
              "      a.click();\n",
              "      div.remove();\n",
              "    }\n",
              "  "
            ]
          },
          "metadata": {}
        },
        {
          "output_type": "display_data",
          "data": {
            "text/plain": [
              "<IPython.core.display.Javascript object>"
            ],
            "application/javascript": [
              "download(\"download_175a61dd-d3d1-44a7-8a13-01d465803b82\", \"piper_tts_is_the_best_7CBBDE14.wav\", 77356)"
            ]
          },
          "metadata": {}
        }
      ]
    },
    {
      "cell_type": "code",
      "source": [
        "# !piper --help"
      ],
      "metadata": {
        "id": "WDWBmaGsy0p9"
      },
      "execution_count": null,
      "outputs": []
    }
  ]
}